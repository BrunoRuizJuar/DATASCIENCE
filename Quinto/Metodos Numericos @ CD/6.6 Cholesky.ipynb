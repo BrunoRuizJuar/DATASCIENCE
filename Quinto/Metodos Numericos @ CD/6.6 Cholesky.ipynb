{
 "cells": [
  {
   "cell_type": "code",
   "execution_count": 4,
   "id": "3b9f3cd0-a4c6-4f19-b0bd-e7e076af8cd7",
   "metadata": {},
   "outputs": [
    {
     "data": {
      "text/plain": [
       "mostrar_matriz (generic function with 2 methods)"
      ]
     },
     "execution_count": 4,
     "metadata": {},
     "output_type": "execute_result"
    }
   ],
   "source": [
    "using LinearAlgebra, Printf\n",
    "\n",
    "# Función para imprimir matrices de forma legible\n",
    "function mostrar_matriz(M, nombre=\"M\")\n",
    "    println(\"\\n$nombre =\")\n",
    "    for fila in eachrow(M)\n",
    "        println(join([@sprintf(\"%8.4f\", x) for x in fila], \" \"))\n",
    "    end\n",
    "end\n"
   ]
  },
  {
   "cell_type": "code",
   "execution_count": 2,
   "id": "48487f89-844e-4a97-bfe7-e9829309edba",
   "metadata": {},
   "outputs": [
    {
     "data": {
      "text/plain": [
       "cholesky_manual"
      ]
     },
     "execution_count": 2,
     "metadata": {},
     "output_type": "execute_result"
    }
   ],
   "source": [
    "\"\"\"\n",
    "    cholesky_manual(A)\n",
    "\n",
    "Implementa la descomposición de Cholesky de una matriz simétrica definida positiva A.\n",
    "Devuelve la matriz triangular inferior L tal que A = L * L'.\n",
    "\"\"\"\n",
    "function cholesky_manual(A::Matrix{Float64})\n",
    "    n = size(A, 1)\n",
    "    L = zeros(Float64, n, n)\n",
    "\n",
    "    for i in 1:n\n",
    "        for j in 1:i\n",
    "            suma = 0.0\n",
    "            for k in 1:j-1\n",
    "                suma += L[i, k] * L[j, k]\n",
    "            end\n",
    "            if i == j\n",
    "                L[i, j] = sqrt(A[i, i] - suma)\n",
    "            else\n",
    "                L[i, j] = (A[i, j] - suma) / L[j, j]\n",
    "            end\n",
    "        end\n",
    "    end\n",
    "    return L\n",
    "end\n"
   ]
  },
  {
   "cell_type": "code",
   "execution_count": 5,
   "id": "5c38a183-895e-4e37-809f-2b3cf4449f3b",
   "metadata": {},
   "outputs": [
    {
     "name": "stdout",
     "output_type": "stream",
     "text": [
      "\n",
      "A =\n",
      " 25.0000  15.0000  -5.0000\n",
      " 15.0000  18.0000   0.0000\n",
      " -5.0000   0.0000  11.0000\n",
      "\n",
      "L =\n",
      "  5.0000   0.0000   0.0000\n",
      "  3.0000   3.0000   0.0000\n",
      " -1.0000   1.0000   3.0000\n",
      "\n",
      "L * L' =\n",
      " 25.0000  15.0000  -5.0000\n",
      " 15.0000  18.0000   0.0000\n",
      " -5.0000   0.0000  11.0000\n"
     ]
    }
   ],
   "source": [
    "# Definimos una matriz simétrica definida positiva\n",
    "A = [25.0 15.0 -5.0;\n",
    "     15.0 18.0  0.0;\n",
    "     -5.0  0.0 11.0]\n",
    "\n",
    "mostrar_matriz(A, \"A\")\n",
    "\n",
    "# Calculamos la descomposición de Cholesky manual\n",
    "L = cholesky_manual(A)\n",
    "mostrar_matriz(L, \"L\")\n",
    "\n",
    "# Verificamos que A = L * L'\n",
    "mostrar_matriz(L * L', \"L * L'\")\n"
   ]
  },
  {
   "cell_type": "code",
   "execution_count": 6,
   "id": "6617b97d-ac25-4673-a24c-5b1aa4572343",
   "metadata": {},
   "outputs": [
    {
     "name": "stdout",
     "output_type": "stream",
     "text": [
      "\n",
      "L (builtin) =\n",
      "  5.0000   0.0000   0.0000\n",
      "  3.0000   3.0000   0.0000\n",
      " -1.0000   1.0000   3.0000\n",
      "\n",
      "¿Coinciden las dos L?\n",
      "true\n"
     ]
    }
   ],
   "source": [
    "# Comparación con la función incorporada de Julia\n",
    "L_builtin = cholesky(A).L\n",
    "mostrar_matriz(L_builtin, \"L (builtin)\")\n",
    "\n",
    "println(\"\\n¿Coinciden las dos L?\")\n",
    "println(all(isapprox.(L, L_builtin; atol=1e-10)))\n"
   ]
  },
  {
   "cell_type": "code",
   "execution_count": null,
   "id": "5af2879b-2446-4869-8986-79e1f00f0d75",
   "metadata": {},
   "outputs": [],
   "source": []
  }
 ],
 "metadata": {
  "kernelspec": {
   "display_name": "Julia 1.11.7",
   "language": "julia",
   "name": "julia-1.11"
  },
  "language_info": {
   "file_extension": ".jl",
   "mimetype": "application/julia",
   "name": "julia",
   "version": "1.11.7"
  }
 },
 "nbformat": 4,
 "nbformat_minor": 5
}
