{
 "cells": [
  {
   "cell_type": "code",
   "execution_count": 1,
   "id": "dbec20e4",
   "metadata": {},
   "outputs": [
    {
     "data": {
      "text/plain": [
       "jacobi (generic function with 1 method)"
      ]
     },
     "metadata": {},
     "output_type": "display_data"
    }
   ],
   "source": [
    "using LinearAlgebra\n",
    "\n",
    "function jacobi(A, b, x0, TOL, N)\n",
    "    n = length(b)           # tamaño del sistema\n",
    "    x = copy(x0)            # x = x0 no crea un nuevo vector, por eso usamos copy\n",
    "    x_new = similar(x0)     # nuevo vector del mismo tipo y tamaño que x0, pero sin copiar los valores\n",
    "    \n",
    "    # cálculo de cada componente\n",
    "    for k in 1:N\n",
    "        for i in 1:n\n",
    "            suma = 0.0\n",
    "            for j in 1:n\n",
    "                if j != i\n",
    "                    suma += A[i,j] * x[j]\n",
    "                end\n",
    "            end\n",
    "            x_new[i] = (b[i] - suma) / A[i,i]\n",
    "        end\n",
    "        \n",
    "        # criterio de paro\n",
    "        if norm(x_new - x) < TOL\n",
    "            println(\"El procedimiento fue exitoso en la iteración $k\")\n",
    "            return x_new\n",
    "        end\n",
    "        \n",
    "        x .= x_new\n",
    "    end\n",
    "    \n",
    "    println(\"Número máximo de iteraciones excedido. (El procedimiento no fue exitoso)\")\n",
    "    return x\n",
    "end"
   ]
  },
  {
   "cell_type": "code",
   "execution_count": 14,
   "id": "45a8e1fb",
   "metadata": {},
   "outputs": [
    {
     "name": "stdout",
     "output_type": "stream",
     "text": [
      "El procedimiento fue exitoso en la iteración 27\n"
     ]
    },
    {
     "data": {
      "text/plain": [
       "3-element Vector{Float64}:\n",
       " 4.999999999983133\n",
       " 4.999999999966265\n",
       " 4.99999999997751"
      ]
     },
     "metadata": {},
     "output_type": "display_data"
    }
   ],
   "source": [
    "# matriz de coeficientes\n",
    "A = [4.0 -1.0 0.0; -1.0 4.0 -1.0; 0.0 -1.0 3.0]\n",
    "\n",
    "# vector de términos independientes\n",
    "b = [15.0, 10.0, 10.0]\n",
    "\n",
    "# aproximación inicial\n",
    "x0 = zeros(3)\n",
    "\n",
    "# solución\n",
    "sol = jacobi(A, b, x0, 1e-10, 50)"
   ]
  }
 ],
 "metadata": {
  "kernelspec": {
   "display_name": "Julia 1.11.7",
   "language": "julia",
   "name": "julia-1.11"
  },
  "language_info": {
   "file_extension": ".jl",
   "mimetype": "application/julia",
   "name": "julia",
   "version": "1.11.7"
  }
 },
 "nbformat": 4,
 "nbformat_minor": 5
}
