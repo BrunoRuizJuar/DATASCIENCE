{
 "cells": [
  {
   "cell_type": "code",
   "execution_count": 9,
   "id": "f426e6f1-7253-49d3-a5ef-7d9c14877812",
   "metadata": {},
   "outputs": [
    {
     "data": {
      "text/plain": [
       "gauss_elimination (generic function with 1 method)"
      ]
     },
     "execution_count": 9,
     "metadata": {},
     "output_type": "execute_result"
    }
   ],
   "source": [
    "### algoritmo 6.1\n",
    "function gauss_elimination(A, b)\n",
    "    # A es la matriz de coeficientes\n",
    "    # b es el vector de términos independientes\n",
    "    n = size(A, 1)\n",
    "    \n",
    "    # Construimos la matriz aumentada [A|b]\n",
    "    Ab = hcat(A, b)\n",
    "\n",
    "    # Eliminación hacia adelante\n",
    "    for k in 1:n-1\n",
    "        # Pivote: asegurarnos de que Ab[k,k] ≠ 0\n",
    "        if Ab[k,k] == 0\n",
    "            # Buscar fila con pivote no nulo más abajo\n",
    "            for i in k+1:n\n",
    "                if Ab[i,k] != 0\n",
    "                    Ab[[k,i], :] = Ab[[i,k], :]   # intercambio de filas\n",
    "                    break\n",
    "                end\n",
    "            end\n",
    "        end\n",
    "\n",
    "        # Eliminar debajo del pivote\n",
    "        for i in k+1:n\n",
    "            m = Ab[i,k] / Ab[k,k]   # multiplicador\n",
    "            Ab[i, :] .= Ab[i, :] .- m .* Ab[k, :]\n",
    "        end\n",
    "    end\n",
    "\n",
    "    # Sustitución hacia atrás\n",
    "    x = zeros(Float64, n)\n",
    "    for i in n:-1:1\n",
    "        x[i] = (Ab[i,end] - sum(Ab[i, i+1:n] .* x[i+1:n])) / Ab[i,i]\n",
    "    end\n",
    "\n",
    "    return x\n",
    "end"
   ]
  },
  {
   "cell_type": "code",
   "execution_count": 10,
   "id": "b1aaad6c-d9fb-4735-9bf6-134b2ebd3b25",
   "metadata": {},
   "outputs": [
    {
     "name": "stdout",
     "output_type": "stream",
     "text": [
      "Solución: [-1.0, 2.0, 0.0, 1.0]\n"
     ]
    }
   ],
   "source": [
    "A = [1 1 0 3;\n",
    "     2 1 -1 1;\n",
    "     3 -1 -1 2;\n",
    "    -1 2 3 -1]\n",
    "\n",
    "b = [4; 1; -3; 4]\n",
    "\n",
    "x = gauss_elimination(A, b)\n",
    "println(\"Solución: \", x)"
   ]
  },
  {
   "cell_type": "code",
   "execution_count": 11,
   "id": "bb125977-4be6-4f0e-9e6c-71361483b75b",
   "metadata": {},
   "outputs": [
    {
     "data": {
      "text/plain": [
       "gauss_elimination_pivot (generic function with 1 method)"
      ]
     },
     "execution_count": 11,
     "metadata": {},
     "output_type": "execute_result"
    }
   ],
   "source": [
    "### algoritmo 6.2\n",
    "function gauss_elimination_pivot(A, b)\n",
    "    n = size(A, 1)\n",
    "    Ab = hcat(float.(A), float.(b))  # convertir a Float64\n",
    "  # matriz aumentada [A|b]\n",
    "\n",
    "    # Inicializamos NROW (vector de índices de filas)\n",
    "    NROW = collect(1:n)\n",
    "\n",
    "    # Proceso de eliminación\n",
    "    for i in 1:n-1\n",
    "        # Paso 3: encontrar fila p con pivote máximo en columna i\n",
    "        p = i\n",
    "        maxval = abs(Ab[NROW[i], i])\n",
    "        for j in i+1:n\n",
    "            if abs(Ab[NROW[j], i]) > maxval\n",
    "                maxval = abs(Ab[NROW[j], i])\n",
    "                p = j\n",
    "            end\n",
    "        end\n",
    "\n",
    "        # Paso 4: verificar si el pivote es cero\n",
    "        if maxval == 0\n",
    "            error(\"No existe solución única (columna $i tiene pivote cero).\")\n",
    "        end\n",
    "\n",
    "        # Paso 5: intercambio de índices de fila\n",
    "        if NROW[i] != NROW[p]\n",
    "            NCOPY = NROW[i]\n",
    "            NROW[i] = NROW[p]\n",
    "            NROW[p] = NCOPY\n",
    "        end\n",
    "\n",
    "        # Paso 6: eliminación hacia adelante\n",
    "        for j in i+1:n\n",
    "            m = Ab[NROW[j], i] / Ab[NROW[i], i]   # Paso 7\n",
    "            Ab[NROW[j], i:end] .-= m .* Ab[NROW[i], i:end]  # Paso 8\n",
    "        end\n",
    "    end\n",
    "\n",
    "    # Paso 9: verificar si último pivote es cero\n",
    "    if Ab[NROW[n], n] == 0\n",
    "        error(\"No existe solución única (último pivote cero).\")\n",
    "    end\n",
    "\n",
    "    # Sustitución hacia atrás\n",
    "    x = zeros(Float64, n)\n",
    "    x[n] = Ab[NROW[n], end] / Ab[NROW[n], n]  # Paso 10\n",
    "\n",
    "    for i in n-1:-1:1\n",
    "        suma = sum(Ab[NROW[i], i+1:n] .* x[i+1:n])\n",
    "        x[i] = (Ab[NROW[i], end] - suma) / Ab[NROW[i], i]  # Paso 11\n",
    "    end\n",
    "\n",
    "    return x  # Paso 12\n",
    "end\n"
   ]
  },
  {
   "cell_type": "code",
   "execution_count": 12,
   "id": "150dfafa-4494-4bdf-b588-adead056e47d",
   "metadata": {},
   "outputs": [
    {
     "name": "stdout",
     "output_type": "stream",
     "text": [
      "Solución: [2.0, 3.0000000000000004, -0.9999999999999999]\n"
     ]
    }
   ],
   "source": [
    "A = [2 1 -1; -3 -1 2; -2 1 2]\n",
    "b = [8; -11; -3]\n",
    "\n",
    "x = gauss_elimination_pivot(A, b)\n",
    "println(\"Solución: \", x)\n"
   ]
  },
  {
   "cell_type": "code",
   "execution_count": 13,
   "id": "8675da01-21ac-4d94-80ed-c2f1085fde0c",
   "metadata": {},
   "outputs": [
    {
     "data": {
      "text/plain": [
       "gauss_elimination_scaled (generic function with 1 method)"
      ]
     },
     "execution_count": 13,
     "metadata": {},
     "output_type": "execute_result"
    }
   ],
   "source": [
    "### algoritmo 6.3\n",
    "function gauss_elimination_scaled(A, b)\n",
    "    n = size(A, 1)\n",
    "    Ab = hcat(float.(A), float.(b))        # [A|b] en Float64\n",
    "\n",
    "    # s_i = máximo |a_ij| en cada fila (escala)\n",
    "    s = [maximum(abs.(Ab[i, 1:n])) for i in 1:n]\n",
    "    if any(si -> si == 0, s)\n",
    "        error(\"No existe solución única (fila con todos ceros).\")\n",
    "    end\n",
    "\n",
    "    # NROW: índices de filas\n",
    "    NROW = collect(1:n)\n",
    "\n",
    "    # Eliminación hacia adelante\n",
    "    for i in 1:n-1\n",
    "        # selección de pivote escalado\n",
    "        p, maxratio = i, abs(Ab[NROW[i], i]) / s[NROW[i]]\n",
    "        for j in i+1:n\n",
    "            r = abs(Ab[NROW[j], i]) / s[NROW[j]]\n",
    "            if r > maxratio\n",
    "                p, maxratio = j, r\n",
    "            end\n",
    "        end\n",
    "        # intercambio de índices\n",
    "        if NROW[i] != NROW[p]\n",
    "            NROW[i], NROW[p] = NROW[p], NROW[i]\n",
    "        end\n",
    "        # eliminación\n",
    "        for j in i+1:n\n",
    "            m = Ab[NROW[j], i] / Ab[NROW[i], i]\n",
    "            Ab[NROW[j], i:end] .-= m .* Ab[NROW[i], i:end]\n",
    "        end\n",
    "    end\n",
    "\n",
    "    if Ab[NROW[n], n] == 0\n",
    "        error(\"No existe solución única (último pivote cero).\")\n",
    "    end\n",
    "\n",
    "    # Sustitución hacia atrás\n",
    "    x = zeros(Float64, n)\n",
    "    x[n] = Ab[NROW[n], end] / Ab[NROW[n], n]\n",
    "    for i in n-1:-1:1\n",
    "        ssum = sum(Ab[NROW[i], i+1:n] .* x[i+1:n])\n",
    "        x[i] = (Ab[NROW[i], end] - ssum) / Ab[NROW[i], i]\n",
    "    end\n",
    "    return x\n",
    "end\n"
   ]
  },
  {
   "cell_type": "code",
   "execution_count": 24,
   "id": "8147ece9-3dee-4b38-9ecd-62b60efef3e2",
   "metadata": {},
   "outputs": [
    {
     "name": "stdout",
     "output_type": "stream",
     "text": [
      "x = [-0.4280044137258741, 0.4269032296075051, 5.114388609781965]\n"
     ]
    }
   ],
   "source": [
    "A = [ 2.11  -4.21   0.921;\n",
    "      4.01  10.2   -1.12;\n",
    "      1.09   0.987  0.832 ]\n",
    "\n",
    "b = [ 2.01; -3.09; 4.21 ]\n",
    "\n",
    "x = gauss_elimination_scaled(A, b)\n",
    "println(\"x = \", x)\n"
   ]
  },
  {
   "cell_type": "code",
   "execution_count": 25,
   "id": "3a33bd3c-d3dc-4d77-8f21-5a5e91cc1bf7",
   "metadata": {},
   "outputs": [
    {
     "name": "stdout",
     "output_type": "stream",
     "text": [
      "Matriz L = \n",
      "[1.0 0.0 0.0; 1.900473933649289 1.0 0.0; 0.5165876777251186 0.1737176499384181 1.0]\n",
      "Matriz U = \n",
      "[2.11 -4.21 0.921; 0.0 18.200995260663504 -2.8703364928909956; 0.0 0.0 0.8548508588926704]\n",
      "Solución x = \n",
      "[-0.4280044137258731, 0.4269032296075052, 5.1143886097819635]\n"
     ]
    }
   ],
   "source": [
    "###algoritmo 6.4\n",
    "using LinearAlgebra\n",
    "# --- Factorización LU ---\n",
    "function lu_factorization(A)\n",
    "    n = size(A, 1)\n",
    "    L = Matrix{Float64}(I, n, n)   # Identidad en Float64\n",
    "    U = zeros(Float64, n, n)\n",
    "\n",
    "    for i in 1:n\n",
    "        # Calcular fila de U\n",
    "        for j in i:n\n",
    "            U[i,j] = A[i,j] - sum(L[i,k] * U[k,j] for k in 1:i-1; init=0.0)\n",
    "        end\n",
    "\n",
    "        # Calcular columna de L\n",
    "        for j in i+1:n\n",
    "            L[j,i] = (A[j,i] - sum(L[j,k] * U[k,i] for k in 1:i-1; init=0.0)) / U[i,i]\n",
    "        end\n",
    "    end\n",
    "    return L, U\n",
    "end\n",
    "\n",
    "# --- Sustitución hacia adelante ---\n",
    "function forward_substitution(L, b)\n",
    "    n = length(b)\n",
    "    y = zeros(Float64, n)\n",
    "    for i in 1:n\n",
    "        y[i] = (b[i] - sum(L[i,j] * y[j] for j in 1:i-1; init=0.0)) / L[i,i]\n",
    "    end\n",
    "    return y\n",
    "end\n",
    "\n",
    "# --- Sustitución hacia atrás ---\n",
    "function backward_substitution(U, y)\n",
    "    n = length(y)\n",
    "    x = zeros(Float64, n)\n",
    "    for i in n:-1:1\n",
    "        x[i] = (y[i] - sum(U[i,j] * x[j] for j in i+1:n; init=0.0)) / U[i,i]\n",
    "    end\n",
    "    return x\n",
    "end\n",
    "\n",
    "# --- Resolver sistema usando LU ---\n",
    "function solve_lu(A, b)\n",
    "    L, U = lu_factorization(A)\n",
    "    y = forward_substitution(L, b)\n",
    "    x = backward_substitution(U, y)\n",
    "    return x, L, U\n",
    "end\n",
    "\n",
    "# ============================\n",
    "# EJEMPLO DE USO\n",
    "# ============================\n",
    "A = [\n",
    "    2.11   -4.21   0.921;\n",
    "    4.01   10.2   -1.12;\n",
    "    1.09   0.987   0.832\n",
    "]\n",
    "\n",
    "b = [2.01, -3.09, 4.21]\n",
    "\n",
    "x, L, U = solve_lu(A, b)\n",
    "\n",
    "println(\"Matriz L = \"); println(L)\n",
    "println(\"Matriz U = \"); println(U)\n",
    "println(\"Solución x = \"); println(x)\n"
   ]
  },
  {
   "cell_type": "code",
   "execution_count": null,
   "id": "bd566097-2611-40ba-a999-76a5e1321dcc",
   "metadata": {},
   "outputs": [],
   "source": []
  }
 ],
 "metadata": {
  "kernelspec": {
   "display_name": "Julia 1.11.6",
   "language": "julia",
   "name": "julia-1.11"
  },
  "language_info": {
   "file_extension": ".jl",
   "mimetype": "application/julia",
   "name": "julia",
   "version": "1.11.6"
  }
 },
 "nbformat": 4,
 "nbformat_minor": 5
}
