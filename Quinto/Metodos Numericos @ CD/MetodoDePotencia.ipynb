{
 "cells": [
  {
   "cell_type": "code",
   "execution_count": 1,
   "id": "aae1232c",
   "metadata": {},
   "outputs": [
    {
     "data": {
      "text/plain": [
       "metodo_potencia"
      ]
     },
     "metadata": {},
     "output_type": "display_data"
    }
   ],
   "source": [
    "# Cargamos la librería de Álgebra Lineal para usar normas y operaciones\n",
    "using LinearAlgebra\n",
    "\n",
    "\"\"\"\n",
    "    metodo_potencia(A, x, TOxL, N)\n",
    "\n",
    "Calcula el eigenvalor dominante y su eigenvector asociado de una matriz A\n",
    "usando el método de la potencia con norma-infinito.\n",
    "\n",
    "# Argumentos\n",
    "- `A::Matrix`: La matriz cuadrada de n x n.\n",
    "- `x::Vector`: Un vector inicial no nulo de dimensión n.\n",
    "- `TOL::Float64`: La tolerancia para el criterio de parada.\n",
    "- `N::Int`: El número máximo de iteraciones permitidas.\n",
    "\n",
    "# Devuelve\n",
    "- `(μ, x)`: Una tupla con la aproximación del eigenvalor `μ` y el eigenvector `x`.\n",
    "- Lanza un error si no converge o si el eigenvalor es cero.\n",
    "\"\"\"\n",
    "function metodo_potencia(A::Matrix, x::Vector, TOL::Float64, N::Int)\n",
    "    # k es el contador de iteraciones\n",
    "    k = 1\n",
    "\n",
    "    # ---- Paso 2 y 3: Normalización inicial ----\n",
    "    # Encontrar el índice del elemento con el máximo valor absoluto\n",
    "    p = argmax(abs.(x))\n",
    "    # Normalizar el vector x usando la norma-infinito (dividir por el máximo)\n",
    "    x = x / x[p]\n",
    "\n",
    "    # ---- Paso 4: Bucle principal ----\n",
    "    while k <= N\n",
    "        # ---- Paso 5: Multiplicar A por x ----\n",
    "        y = A * x\n",
    "\n",
    "        # ---- Paso 7 & 6: Encontrar el nuevo μ ----\n",
    "        # La nueva aproximación del eigenvalor es el elemento de 'y'\n",
    "        # con el máximo valor absoluto.\n",
    "        μ = y[argmax(abs.(y))]\n",
    "\n",
    "        # ---- Paso 8: Comprobar si el eigenvalor es cero ----\n",
    "        if μ == 0\n",
    "            error(\"La matriz tiene un eigenvalor de 0, el método no puede continuar.\")\n",
    "        end\n",
    "\n",
    "        # ---- Paso 9 y 10: Calcular error y comprobar convergencia ----\n",
    "        # El error es la diferencia (norma-infinito) entre el vector x anterior\n",
    "        # y el nuevo vector normalizado (y / μ).\n",
    "        err = norm(x - y / μ, Inf)\n",
    "        \n",
    "        # Actualizamos x para la siguiente iteración\n",
    "        x = y / μ\n",
    "        \n",
    "        if err < TOL\n",
    "            println(\"Convergencia alcanzada en la iteración $k.\")\n",
    "            return (μ, x) # Procedimiento exitoso\n",
    "        end\n",
    "        \n",
    "\n",
    "        # ---- Paso 11: Incrementar el contador ----\n",
    "        k += 1\n",
    "    end\n",
    "\n",
    "    # ---- Paso 12: Si se excede N ----\n",
    "    error(\"El método no convergió en $N iteraciones.\")\n",
    "end"
   ]
  },
  {
   "cell_type": "code",
   "execution_count": 2,
   "id": "516369f0",
   "metadata": {},
   "outputs": [
    {
     "name": "stdout",
     "output_type": "stream",
     "text": [
      "Convergencia alcanzada en la iteración 19.\n",
      "\n",
      "--- Resultados ---\n",
      "Eigenvalor dominante encontrado: 6.0000065394952795\n",
      "Eigenvector asociado: [1.0, 0.7142859478388626, -0.24999918247179595]\n"
     ]
    }
   ],
   "source": [
    "# ---- Datos de entrada para el ejemplo ----\n",
    "# Matriz del ejemplo\n",
    "A = [ -4.0  14.0  0.0;\n",
    "    -5.0  13.0  0.0;\n",
    "    -1.0  0.0 2.0]\n",
    "\n",
    "# Vector inicial (puede ser cualquiera no nulo)\n",
    "x_inicial = [1.0, 1.0, 1.0]\n",
    "\n",
    "# Tolerancia y número máximo de iteraciones\n",
    "tolerancia = 1e-6\n",
    "max_iter = 100\n",
    "\n",
    "# ---- Ejecución del método ----\n",
    "try\n",
    "    (eigenvalor, eigenvector) = metodo_potencia(A, x_inicial, tolerancia, max_iter)\n",
    "\n",
    "    println(\"\\n--- Resultados ---\")\n",
    "    println(\"Eigenvalor dominante encontrado: \", eigenvalor)\n",
    "    println(\"Eigenvector asociado: \", eigenvector)\n",
    "\n",
    "catch e\n",
    "    println(e)\n",
    "end"
   ]
  }
 ],
 "metadata": {
  "kernelspec": {
   "display_name": "Julia 1.11.7",
   "language": "julia",
   "name": "julia-1.11"
  },
  "language_info": {
   "file_extension": ".jl",
   "mimetype": "application/julia",
   "name": "julia",
   "version": "1.11.7"
  }
 },
 "nbformat": 4,
 "nbformat_minor": 5
}
